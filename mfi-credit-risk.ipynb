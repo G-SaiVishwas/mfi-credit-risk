{
 "cells": [
  {
   "cell_type": "markdown",
   "id": "a38663fb-8c49-4c27-9da8-8b719ba6ad18",
   "metadata": {},
   "source": [
    "# import pakages"
   ]
  },
  {
   "cell_type": "code",
   "execution_count": 1,
   "id": "53a6bc01-fdec-4cf3-884c-38f7b58fa5e7",
   "metadata": {},
   "outputs": [
    {
     "name": "stdout",
     "output_type": "stream",
     "text": [
      "Requirement already satisfied: pandas in /Users/saivishwasgooty/.local/pipx/venvs/pip/lib/python3.13/site-packages (2.2.3)\n",
      "Requirement already satisfied: numpy in /Users/saivishwasgooty/.local/pipx/venvs/pip/lib/python3.13/site-packages (2.2.1)\n",
      "Requirement already satisfied: matplotlib in /Users/saivishwasgooty/.local/pipx/venvs/pip/lib/python3.13/site-packages (3.10.0)\n",
      "Requirement already satisfied: seaborn in /Users/saivishwasgooty/.local/pipx/venvs/pip/lib/python3.13/site-packages (0.13.2)\n",
      "Requirement already satisfied: scikit-learn in /Users/saivishwasgooty/.local/pipx/venvs/pip/lib/python3.13/site-packages (1.6.0)\n",
      "Requirement already satisfied: imbalanced-learn in /Users/saivishwasgooty/.local/pipx/venvs/pip/lib/python3.13/site-packages (0.13.0)\n",
      "Requirement already satisfied: python-dateutil>=2.8.2 in /Users/saivishwasgooty/.local/pipx/venvs/pip/lib/python3.13/site-packages (from pandas) (2.9.0.post0)\n",
      "Requirement already satisfied: pytz>=2020.1 in /Users/saivishwasgooty/.local/pipx/venvs/pip/lib/python3.13/site-packages (from pandas) (2024.2)\n",
      "Requirement already satisfied: tzdata>=2022.7 in /Users/saivishwasgooty/.local/pipx/venvs/pip/lib/python3.13/site-packages (from pandas) (2024.2)\n",
      "Requirement already satisfied: contourpy>=1.0.1 in /Users/saivishwasgooty/.local/pipx/venvs/pip/lib/python3.13/site-packages (from matplotlib) (1.3.1)\n",
      "Requirement already satisfied: cycler>=0.10 in /Users/saivishwasgooty/.local/pipx/venvs/pip/lib/python3.13/site-packages (from matplotlib) (0.12.1)\n",
      "Requirement already satisfied: fonttools>=4.22.0 in /Users/saivishwasgooty/.local/pipx/venvs/pip/lib/python3.13/site-packages (from matplotlib) (4.55.3)\n",
      "Requirement already satisfied: kiwisolver>=1.3.1 in /Users/saivishwasgooty/.local/pipx/venvs/pip/lib/python3.13/site-packages (from matplotlib) (1.4.8)\n",
      "Requirement already satisfied: packaging>=20.0 in /Users/saivishwasgooty/.local/pipx/venvs/pip/lib/python3.13/site-packages (from matplotlib) (24.2)\n",
      "Requirement already satisfied: pillow>=8 in /Users/saivishwasgooty/.local/pipx/venvs/pip/lib/python3.13/site-packages (from matplotlib) (11.1.0)\n",
      "Requirement already satisfied: pyparsing>=2.3.1 in /Users/saivishwasgooty/.local/pipx/venvs/pip/lib/python3.13/site-packages (from matplotlib) (3.2.0)\n",
      "Requirement already satisfied: scipy>=1.6.0 in /Users/saivishwasgooty/.local/pipx/venvs/pip/lib/python3.13/site-packages (from scikit-learn) (1.15.0)\n",
      "Requirement already satisfied: joblib>=1.2.0 in /Users/saivishwasgooty/.local/pipx/venvs/pip/lib/python3.13/site-packages (from scikit-learn) (1.4.2)\n",
      "Requirement already satisfied: threadpoolctl>=3.1.0 in /Users/saivishwasgooty/.local/pipx/venvs/pip/lib/python3.13/site-packages (from scikit-learn) (3.5.0)\n",
      "Requirement already satisfied: sklearn-compat<1,>=0.1 in /Users/saivishwasgooty/.local/pipx/venvs/pip/lib/python3.13/site-packages (from imbalanced-learn) (0.1.3)\n",
      "Requirement already satisfied: six>=1.5 in /Users/saivishwasgooty/.local/pipx/venvs/pip/lib/python3.13/site-packages (from python-dateutil>=2.8.2->pandas) (1.17.0)\n"
     ]
    }
   ],
   "source": [
    "!pip install pandas numpy matplotlib seaborn scikit-learn imbalanced-learn"
   ]
  },
  {
   "cell_type": "code",
   "execution_count": 2,
   "id": "3ba70c29-ddae-4188-94af-80ff4c595158",
   "metadata": {},
   "outputs": [
    {
     "name": "stdout",
     "output_type": "stream",
     "text": [
      "Requirement already satisfied: pandas in /opt/homebrew/Cellar/jupyterlab/4.3.4_1/libexec/lib/python3.13/site-packages (2.2.3)\n",
      "Requirement already satisfied: numpy>=1.26.0 in /opt/homebrew/Cellar/jupyterlab/4.3.4_1/libexec/lib/python3.13/site-packages (from pandas) (2.2.1)\n",
      "Requirement already satisfied: python-dateutil>=2.8.2 in /opt/homebrew/Cellar/jupyterlab/4.3.4_1/libexec/lib/python3.13/site-packages (from pandas) (2.9.0.post0)\n",
      "Requirement already satisfied: pytz>=2020.1 in /opt/homebrew/Cellar/jupyterlab/4.3.4_1/libexec/lib/python3.13/site-packages (from pandas) (2024.2)\n",
      "Requirement already satisfied: tzdata>=2022.7 in /opt/homebrew/Cellar/jupyterlab/4.3.4_1/libexec/lib/python3.13/site-packages (from pandas) (2024.2)\n",
      "Requirement already satisfied: six>=1.5 in /opt/homebrew/Cellar/jupyterlab/4.3.4_1/libexec/lib/python3.13/site-packages (from python-dateutil>=2.8.2->pandas) (1.17.0)\n"
     ]
    }
   ],
   "source": [
    "import sys\n",
    "!{sys.executable} -m pip install pandas"
   ]
  },
  {
   "cell_type": "code",
   "execution_count": 3,
   "id": "41bd382d-b680-46d0-a99e-9915afd381b9",
   "metadata": {},
   "outputs": [
    {
     "name": "stdout",
     "output_type": "stream",
     "text": [
      "Requirement already satisfied: matplotlib in /opt/homebrew/Cellar/jupyterlab/4.3.4_1/libexec/lib/python3.13/site-packages (3.10.0)\n",
      "Requirement already satisfied: contourpy>=1.0.1 in /opt/homebrew/Cellar/jupyterlab/4.3.4_1/libexec/lib/python3.13/site-packages (from matplotlib) (1.3.1)\n",
      "Requirement already satisfied: cycler>=0.10 in /opt/homebrew/Cellar/jupyterlab/4.3.4_1/libexec/lib/python3.13/site-packages (from matplotlib) (0.12.1)\n",
      "Requirement already satisfied: fonttools>=4.22.0 in /opt/homebrew/Cellar/jupyterlab/4.3.4_1/libexec/lib/python3.13/site-packages (from matplotlib) (4.55.3)\n",
      "Requirement already satisfied: kiwisolver>=1.3.1 in /opt/homebrew/Cellar/jupyterlab/4.3.4_1/libexec/lib/python3.13/site-packages (from matplotlib) (1.4.8)\n",
      "Requirement already satisfied: numpy>=1.23 in /opt/homebrew/Cellar/jupyterlab/4.3.4_1/libexec/lib/python3.13/site-packages (from matplotlib) (2.2.1)\n",
      "Requirement already satisfied: packaging>=20.0 in /opt/homebrew/Cellar/jupyterlab/4.3.4_1/libexec/lib/python3.13/site-packages (from matplotlib) (24.2)\n",
      "Requirement already satisfied: pillow>=8 in /opt/homebrew/Cellar/jupyterlab/4.3.4_1/libexec/lib/python3.13/site-packages (from matplotlib) (11.1.0)\n",
      "Requirement already satisfied: pyparsing>=2.3.1 in /opt/homebrew/Cellar/jupyterlab/4.3.4_1/libexec/lib/python3.13/site-packages (from matplotlib) (3.2.1)\n",
      "Requirement already satisfied: python-dateutil>=2.7 in /opt/homebrew/Cellar/jupyterlab/4.3.4_1/libexec/lib/python3.13/site-packages (from matplotlib) (2.9.0.post0)\n",
      "Requirement already satisfied: six>=1.5 in /opt/homebrew/Cellar/jupyterlab/4.3.4_1/libexec/lib/python3.13/site-packages (from python-dateutil>=2.7->matplotlib) (1.17.0)\n"
     ]
    }
   ],
   "source": [
    "!{sys.executable} -m pip install matplotlib"
   ]
  },
  {
   "cell_type": "code",
   "execution_count": 4,
   "id": "787b95f9-96ea-4416-b8f4-506b0cb55d6f",
   "metadata": {},
   "outputs": [
    {
     "name": "stdout",
     "output_type": "stream",
     "text": [
      "Requirement already satisfied: seaborn in /opt/homebrew/Cellar/jupyterlab/4.3.4_1/libexec/lib/python3.13/site-packages (0.13.2)\n",
      "Requirement already satisfied: numpy!=1.24.0,>=1.20 in /opt/homebrew/Cellar/jupyterlab/4.3.4_1/libexec/lib/python3.13/site-packages (from seaborn) (2.2.1)\n",
      "Requirement already satisfied: pandas>=1.2 in /opt/homebrew/Cellar/jupyterlab/4.3.4_1/libexec/lib/python3.13/site-packages (from seaborn) (2.2.3)\n",
      "Requirement already satisfied: matplotlib!=3.6.1,>=3.4 in /opt/homebrew/Cellar/jupyterlab/4.3.4_1/libexec/lib/python3.13/site-packages (from seaborn) (3.10.0)\n",
      "Requirement already satisfied: contourpy>=1.0.1 in /opt/homebrew/Cellar/jupyterlab/4.3.4_1/libexec/lib/python3.13/site-packages (from matplotlib!=3.6.1,>=3.4->seaborn) (1.3.1)\n",
      "Requirement already satisfied: cycler>=0.10 in /opt/homebrew/Cellar/jupyterlab/4.3.4_1/libexec/lib/python3.13/site-packages (from matplotlib!=3.6.1,>=3.4->seaborn) (0.12.1)\n",
      "Requirement already satisfied: fonttools>=4.22.0 in /opt/homebrew/Cellar/jupyterlab/4.3.4_1/libexec/lib/python3.13/site-packages (from matplotlib!=3.6.1,>=3.4->seaborn) (4.55.3)\n",
      "Requirement already satisfied: kiwisolver>=1.3.1 in /opt/homebrew/Cellar/jupyterlab/4.3.4_1/libexec/lib/python3.13/site-packages (from matplotlib!=3.6.1,>=3.4->seaborn) (1.4.8)\n",
      "Requirement already satisfied: packaging>=20.0 in /opt/homebrew/Cellar/jupyterlab/4.3.4_1/libexec/lib/python3.13/site-packages (from matplotlib!=3.6.1,>=3.4->seaborn) (24.2)\n",
      "Requirement already satisfied: pillow>=8 in /opt/homebrew/Cellar/jupyterlab/4.3.4_1/libexec/lib/python3.13/site-packages (from matplotlib!=3.6.1,>=3.4->seaborn) (11.1.0)\n",
      "Requirement already satisfied: pyparsing>=2.3.1 in /opt/homebrew/Cellar/jupyterlab/4.3.4_1/libexec/lib/python3.13/site-packages (from matplotlib!=3.6.1,>=3.4->seaborn) (3.2.1)\n",
      "Requirement already satisfied: python-dateutil>=2.7 in /opt/homebrew/Cellar/jupyterlab/4.3.4_1/libexec/lib/python3.13/site-packages (from matplotlib!=3.6.1,>=3.4->seaborn) (2.9.0.post0)\n",
      "Requirement already satisfied: pytz>=2020.1 in /opt/homebrew/Cellar/jupyterlab/4.3.4_1/libexec/lib/python3.13/site-packages (from pandas>=1.2->seaborn) (2024.2)\n",
      "Requirement already satisfied: tzdata>=2022.7 in /opt/homebrew/Cellar/jupyterlab/4.3.4_1/libexec/lib/python3.13/site-packages (from pandas>=1.2->seaborn) (2024.2)\n",
      "Requirement already satisfied: six>=1.5 in /opt/homebrew/Cellar/jupyterlab/4.3.4_1/libexec/lib/python3.13/site-packages (from python-dateutil>=2.7->matplotlib!=3.6.1,>=3.4->seaborn) (1.17.0)\n"
     ]
    }
   ],
   "source": [
    "!{sys.executable} -m pip install seaborn"
   ]
  },
  {
   "cell_type": "code",
   "execution_count": 5,
   "id": "0069d44b-a9a3-4177-9327-da7c2653b413",
   "metadata": {},
   "outputs": [
    {
     "name": "stdout",
     "output_type": "stream",
     "text": [
      "Requirement already satisfied: scikit-learn in /opt/homebrew/Cellar/jupyterlab/4.3.4_1/libexec/lib/python3.13/site-packages (1.6.0)\n",
      "Requirement already satisfied: imbalanced-learn in /opt/homebrew/Cellar/jupyterlab/4.3.4_1/libexec/lib/python3.13/site-packages (0.13.0)\n",
      "Requirement already satisfied: numpy>=1.19.5 in /opt/homebrew/Cellar/jupyterlab/4.3.4_1/libexec/lib/python3.13/site-packages (from scikit-learn) (2.2.1)\n",
      "Requirement already satisfied: scipy>=1.6.0 in /opt/homebrew/Cellar/jupyterlab/4.3.4_1/libexec/lib/python3.13/site-packages (from scikit-learn) (1.15.0)\n",
      "Requirement already satisfied: joblib>=1.2.0 in /opt/homebrew/Cellar/jupyterlab/4.3.4_1/libexec/lib/python3.13/site-packages (from scikit-learn) (1.4.2)\n",
      "Requirement already satisfied: threadpoolctl>=3.1.0 in /opt/homebrew/Cellar/jupyterlab/4.3.4_1/libexec/lib/python3.13/site-packages (from scikit-learn) (3.5.0)\n",
      "Requirement already satisfied: sklearn-compat<1,>=0.1 in /opt/homebrew/Cellar/jupyterlab/4.3.4_1/libexec/lib/python3.13/site-packages (from imbalanced-learn) (0.1.3)\n"
     ]
    }
   ],
   "source": [
    "!{sys.executable} -m pip install scikit-learn imbalanced-learn"
   ]
  },
  {
   "cell_type": "code",
   "execution_count": 2,
   "id": "cc947e8e-7685-4cbe-afc1-d5b697e9a388",
   "metadata": {},
   "outputs": [
    {
     "name": "stdout",
     "output_type": "stream",
     "text": [
      "All libraries imported successfully!\n"
     ]
    }
   ],
   "source": [
    "import pandas as pd\n",
    "import numpy as np\n",
    "import matplotlib.pyplot as plt\n",
    "import seaborn as sns\n",
    "from sklearn.model_selection import train_test_split, StratifiedKFold, GridSearchCV\n",
    "from sklearn.preprocessing import StandardScaler, OneHotEncoder\n",
    "from sklearn.impute import SimpleImputer\n",
    "from sklearn.metrics import f1_score, classification_report, confusion_matrix\n",
    "from sklearn.ensemble import RandomForestClassifier\n",
    "from imblearn.over_sampling import SMOTE\n",
    "\n",
    "import warnings\n",
    "warnings.filterwarnings('ignore')\n",
    "\n",
    "print(\"All libraries imported successfully!\")"
   ]
  },
  {
   "cell_type": "markdown",
   "id": "12600901-63d7-413f-8818-55c1583c2f5a",
   "metadata": {},
   "source": [
    "# Load the data\n"
   ]
  },
  {
   "cell_type": "code",
   "execution_count": 4,
   "id": "d45be3af-93fb-4a15-b029-a2784a04fac8",
   "metadata": {},
   "outputs": [
    {
     "name": "stdout",
     "output_type": "stream",
     "text": [
      "Training Data Head:\n",
      "       ID  TARGET NAME_CONTRACT_TYPE CODE_GENDER FLAG_OWN_CAR FLAG_OWN_REALTY  \\\n",
      "0  196348       0         Cash loans           F            N               Y   \n",
      "1  147976       0         Cash loans           M            N               Y   \n",
      "2   52662       0    Revolving loans           F            N               Y   \n",
      "3  101577       0         Cash loans           F            N               Y   \n",
      "4  173078       0         Cash loans           F            Y               N   \n",
      "\n",
      "   CNT_CHILDREN  AMT_INCOME_TOTAL  AMT_CREDIT  AMT_ANNUITY  ...  \\\n",
      "0             2          225000.0    785398.5      33403.5  ...   \n",
      "1             0           90000.0    592560.0      35937.0  ...   \n",
      "2             1          126000.0    202500.0      10125.0  ...   \n",
      "3             0          157500.0    254700.0      18531.0  ...   \n",
      "4             0          540000.0   1252363.5      47830.5  ...   \n",
      "\n",
      "   FLAG_DOCUMENT_18 FLAG_DOCUMENT_19 FLAG_DOCUMENT_20 FLAG_DOCUMENT_21  \\\n",
      "0                 0                0                0                0   \n",
      "1                 0                0                0                0   \n",
      "2                 0                0                0                0   \n",
      "3                 0                0                0                0   \n",
      "4                 0                0                0                0   \n",
      "\n",
      "  AMT_REQ_CREDIT_BUREAU_HOUR AMT_REQ_CREDIT_BUREAU_DAY  \\\n",
      "0                        0.0                       0.0   \n",
      "1                        NaN                       NaN   \n",
      "2                        0.0                       0.0   \n",
      "3                        NaN                       NaN   \n",
      "4                        0.0                       0.0   \n",
      "\n",
      "   AMT_REQ_CREDIT_BUREAU_WEEK  AMT_REQ_CREDIT_BUREAU_MON  \\\n",
      "0                         0.0                        0.0   \n",
      "1                         NaN                        NaN   \n",
      "2                         0.0                        1.0   \n",
      "3                         NaN                        NaN   \n",
      "4                         1.0                        0.0   \n",
      "\n",
      "   AMT_REQ_CREDIT_BUREAU_QRT  AMT_REQ_CREDIT_BUREAU_YEAR  \n",
      "0                        0.0                         3.0  \n",
      "1                        NaN                         NaN  \n",
      "2                        0.0                         4.0  \n",
      "3                        NaN                         NaN  \n",
      "4                        0.0                         5.0  \n",
      "\n",
      "[5 rows x 122 columns]\n"
     ]
    }
   ],
   "source": [
    "# Load datasets\n",
    "train = pd.read_csv('train.csv')\n",
    "test = pd.read_csv('test.csv')\n",
    "sample_submission = pd.read_csv('sample_submission.csv')\n",
    "column_description = pd.read_csv('column_description.csv')\n",
    "\n",
    "# Display first few rows of training data\n",
    "print(\"Training Data Head:\")\n",
    "print(train.head())"
   ]
  },
  {
   "cell_type": "markdown",
   "id": "5ac86a27-c87e-4a19-8004-1d6016ec0a3c",
   "metadata": {},
   "source": [
    "# Explore the data\n"
   ]
  },
  {
   "cell_type": "code",
   "execution_count": 5,
   "id": "f982abd3-51ff-4ed7-b05f-50bb7b55c697",
   "metadata": {},
   "outputs": [
    {
     "name": "stdout",
     "output_type": "stream",
     "text": [
      "\n",
      "Training Data Info:\n",
      "<class 'pandas.core.frame.DataFrame'>\n",
      "RangeIndex: 215258 entries, 0 to 215257\n",
      "Columns: 122 entries, ID to AMT_REQ_CREDIT_BUREAU_YEAR\n",
      "dtypes: float64(65), int64(41), object(16)\n",
      "memory usage: 200.4+ MB\n",
      "None\n",
      "\n",
      "Training Data Description:\n",
      "                 ID         TARGET   CNT_CHILDREN  AMT_INCOME_TOTAL  \\\n",
      "count  215258.00000  215258.000000  215258.000000      2.152580e+05   \n",
      "mean   107628.50000       0.080731       0.417076      1.688900e+05   \n",
      "std     62139.77646       0.272422       0.723197      2.745586e+05   \n",
      "min         0.00000       0.000000       0.000000      2.565000e+04   \n",
      "25%     53814.25000       0.000000       0.000000      1.125000e+05   \n",
      "50%    107628.50000       0.000000       0.000000      1.440000e+05   \n",
      "75%    161442.75000       0.000000       1.000000      2.025000e+05   \n",
      "max    215257.00000       1.000000      19.000000      1.170000e+08   \n",
      "\n",
      "         AMT_CREDIT    AMT_ANNUITY  AMT_GOODS_PRICE  \\\n",
      "count  2.152580e+05  215249.000000     2.150840e+05   \n",
      "mean   5.994893e+05   27125.796166     5.387622e+05   \n",
      "std    4.027798e+05   14531.196505     3.698069e+05   \n",
      "min    4.500000e+04    1980.000000     4.500000e+04   \n",
      "25%    2.700000e+05   16524.000000     2.385000e+05   \n",
      "50%    5.135310e+05   24925.500000     4.500000e+05   \n",
      "75%    8.086500e+05   34636.500000     6.795000e+05   \n",
      "max    4.050000e+06  258025.500000     4.050000e+06   \n",
      "\n",
      "       REGION_POPULATION_RELATIVE     DAYS_BIRTH  DAYS_EMPLOYED  ...  \\\n",
      "count               215258.000000  215258.000000  215258.000000  ...   \n",
      "mean                     0.020869  -16037.328169   63865.074181  ...   \n",
      "std                      0.013834    4369.585911  141314.891126  ...   \n",
      "min                      0.000533  -25201.000000  -17546.000000  ...   \n",
      "25%                      0.010006  -19688.000000   -2757.000000  ...   \n",
      "50%                      0.018850  -15747.000000   -1213.000000  ...   \n",
      "75%                      0.028663  -12405.250000    -287.000000  ...   \n",
      "max                      0.072508   -7673.000000  365243.000000  ...   \n",
      "\n",
      "       FLAG_DOCUMENT_18  FLAG_DOCUMENT_19  FLAG_DOCUMENT_20  FLAG_DOCUMENT_21  \\\n",
      "count     215258.000000     215258.000000     215258.000000     215258.000000   \n",
      "mean           0.008037          0.000562          0.000483          0.000325   \n",
      "std            0.089288          0.023702          0.021975          0.018030   \n",
      "min            0.000000          0.000000          0.000000          0.000000   \n",
      "25%            0.000000          0.000000          0.000000          0.000000   \n",
      "50%            0.000000          0.000000          0.000000          0.000000   \n",
      "75%            0.000000          0.000000          0.000000          0.000000   \n",
      "max            1.000000          1.000000          1.000000          1.000000   \n",
      "\n",
      "       AMT_REQ_CREDIT_BUREAU_HOUR  AMT_REQ_CREDIT_BUREAU_DAY  \\\n",
      "count               186186.000000              186186.000000   \n",
      "mean                     0.006494                   0.007240   \n",
      "std                      0.085314                   0.114952   \n",
      "min                      0.000000                   0.000000   \n",
      "25%                      0.000000                   0.000000   \n",
      "50%                      0.000000                   0.000000   \n",
      "75%                      0.000000                   0.000000   \n",
      "max                      4.000000                   9.000000   \n",
      "\n",
      "       AMT_REQ_CREDIT_BUREAU_WEEK  AMT_REQ_CREDIT_BUREAU_MON  \\\n",
      "count               186186.000000              186186.000000   \n",
      "mean                     0.034369                   0.265761   \n",
      "std                      0.206392                   0.909921   \n",
      "min                      0.000000                   0.000000   \n",
      "25%                      0.000000                   0.000000   \n",
      "50%                      0.000000                   0.000000   \n",
      "75%                      0.000000                   0.000000   \n",
      "max                      8.000000                  24.000000   \n",
      "\n",
      "       AMT_REQ_CREDIT_BUREAU_QRT  AMT_REQ_CREDIT_BUREAU_YEAR  \n",
      "count              186186.000000               186186.000000  \n",
      "mean                    0.264515                    1.894777  \n",
      "std                     0.611392                    1.866564  \n",
      "min                     0.000000                    0.000000  \n",
      "25%                     0.000000                    0.000000  \n",
      "50%                     0.000000                    1.000000  \n",
      "75%                     0.000000                    3.000000  \n",
      "max                     8.000000                   25.000000  \n",
      "\n",
      "[8 rows x 106 columns]\n",
      "\n",
      "Target Variable Distribution:\n",
      "TARGET\n",
      "0    197880\n",
      "1     17378\n",
      "Name: count, dtype: int64\n"
     ]
    },
    {
     "data": {
      "image/png": "[encoded data removed]",
      "text/plain": [
       "<Figure size 600x400 with 1 Axes>"
      ]
     },
     "metadata": {},
     "output_type": "display_data"
    }
   ],
   "source": [
    "# Basic information about training data\n",
    "print(\"\\nTraining Data Info:\")\n",
    "print(train.info())\n",
    "\n",
    "# Summary statistics\n",
    "print(\"\\nTraining Data Description:\")\n",
    "print(train.describe())\n",
    "\n",
    "# Target variable distribution\n",
    "print(\"\\nTarget Variable Distribution:\")\n",
    "print(train['TARGET'].value_counts())\n",
    "\n",
    "# Visualization: Target Distribution\n",
    "plt.figure(figsize=(6,4))\n",
    "sns.countplot(x='TARGET', data=train)\n",
    "plt.title('Distribution of TARGET Variable')\n",
    "plt.show()"
   ]
  },
  {
   "cell_type": "markdown",
   "id": "ab3dc5a0-24c9-4657-8215-356929761a45",
   "metadata": {},
   "source": [
    "# Data Processing"
   ]
  },
  {
   "cell_type": "code",
   "execution_count": 6,
   "id": "9826d97d-6bfc-47f9-8f28-b0155c669436",
   "metadata": {},
   "outputs": [
    {
     "name": "stdout",
     "output_type": "stream",
     "text": [
      "Training Features Shape: (215258, 120)\n",
      "Test Features Shape: (92253, 120)\n"
     ]
    }
   ],
   "source": [
    "# Separate target from training data\n",
    "y = train['TARGET']\n",
    "train_features = train.drop(['ID', 'TARGET'], axis=1)\n",
    "test_features = test.drop(['ID'], axis=1)\n",
    "\n",
    "print(\"Training Features Shape:\", train_features.shape)\n",
    "print(\"Test Features Shape:\", test_features.shape)"
   ]
  },
  {
   "cell_type": "markdown",
   "id": "029b5a1b-ef5d-4d81-bcb7-e0ad2fd7bccb",
   "metadata": {},
   "source": [
    "# Handling missing values\n"
   ]
  },
  {
   "cell_type": "code",
   "execution_count": 7,
   "id": "84364c16-8bd3-4c19-b30d-6937ac20b160",
   "metadata": {},
   "outputs": [
    {
     "name": "stdout",
     "output_type": "stream",
     "text": [
      "Numerical Features: ['CNT_CHILDREN', 'AMT_INCOME_TOTAL', 'AMT_CREDIT', 'AMT_ANNUITY', 'AMT_GOODS_PRICE', 'REGION_POPULATION_RELATIVE', 'DAYS_BIRTH', 'DAYS_EMPLOYED', 'DAYS_REGISTRATION', 'DAYS_ID_PUBLISH', 'OWN_CAR_AGE', 'FLAG_MOBIL', 'FLAG_EMP_PHONE', 'FLAG_WORK_PHONE', 'FLAG_CONT_MOBILE', 'FLAG_PHONE', 'FLAG_EMAIL', 'CNT_FAM_MEMBERS', 'REGION_RATING_CLIENT', 'REGION_RATING_CLIENT_W_CITY', 'HOUR_APPR_PROCESS_START', 'REG_REGION_NOT_LIVE_REGION', 'REG_REGION_NOT_WORK_REGION', 'LIVE_REGION_NOT_WORK_REGION', 'REG_CITY_NOT_LIVE_CITY', 'REG_CITY_NOT_WORK_CITY', 'LIVE_CITY_NOT_WORK_CITY', 'EXT_SOURCE_1', 'EXT_SOURCE_2', 'EXT_SOURCE_3', 'APARTMENTS_AVG', 'BASEMENTAREA_AVG', 'YEARS_BEGINEXPLUATATION_AVG', 'YEARS_BUILD_AVG', 'COMMONAREA_AVG', 'ELEVATORS_AVG', 'ENTRANCES_AVG', 'FLOORSMAX_AVG', 'FLOORSMIN_AVG', 'LANDAREA_AVG', 'LIVINGAPARTMENTS_AVG', 'LIVINGAREA_AVG', 'NONLIVINGAPARTMENTS_AVG', 'NONLIVINGAREA_AVG', 'APARTMENTS_MODE', 'BASEMENTAREA_MODE', 'YEARS_BEGINEXPLUATATION_MODE', 'YEARS_BUILD_MODE', 'COMMONAREA_MODE', 'ELEVATORS_MODE', 'ENTRANCES_MODE', 'FLOORSMAX_MODE', 'FLOORSMIN_MODE', 'LANDAREA_MODE', 'LIVINGAPARTMENTS_MODE', 'LIVINGAREA_MODE', 'NONLIVINGAPARTMENTS_MODE', 'NONLIVINGAREA_MODE', 'APARTMENTS_MEDI', 'BASEMENTAREA_MEDI', 'YEARS_BEGINEXPLUATATION_MEDI', 'YEARS_BUILD_MEDI', 'COMMONAREA_MEDI', 'ELEVATORS_MEDI', 'ENTRANCES_MEDI', 'FLOORSMAX_MEDI', 'FLOORSMIN_MEDI', 'LANDAREA_MEDI', 'LIVINGAPARTMENTS_MEDI', 'LIVINGAREA_MEDI', 'NONLIVINGAPARTMENTS_MEDI', 'NONLIVINGAREA_MEDI', 'TOTALAREA_MODE', 'OBS_30_CNT_SOCIAL_CIRCLE', 'DEF_30_CNT_SOCIAL_CIRCLE', 'OBS_60_CNT_SOCIAL_CIRCLE', 'DEF_60_CNT_SOCIAL_CIRCLE', 'DAYS_LAST_PHONE_CHANGE', 'FLAG_DOCUMENT_2', 'FLAG_DOCUMENT_3', 'FLAG_DOCUMENT_4', 'FLAG_DOCUMENT_5', 'FLAG_DOCUMENT_6', 'FLAG_DOCUMENT_7', 'FLAG_DOCUMENT_8', 'FLAG_DOCUMENT_9', 'FLAG_DOCUMENT_10', 'FLAG_DOCUMENT_11', 'FLAG_DOCUMENT_12', 'FLAG_DOCUMENT_13', 'FLAG_DOCUMENT_14', 'FLAG_DOCUMENT_15', 'FLAG_DOCUMENT_16', 'FLAG_DOCUMENT_17', 'FLAG_DOCUMENT_18', 'FLAG_DOCUMENT_19', 'FLAG_DOCUMENT_20', 'FLAG_DOCUMENT_21', 'AMT_REQ_CREDIT_BUREAU_HOUR', 'AMT_REQ_CREDIT_BUREAU_DAY', 'AMT_REQ_CREDIT_BUREAU_WEEK', 'AMT_REQ_CREDIT_BUREAU_MON', 'AMT_REQ_CREDIT_BUREAU_QRT', 'AMT_REQ_CREDIT_BUREAU_YEAR']\n",
      "Categorical Features: ['NAME_CONTRACT_TYPE', 'CODE_GENDER', 'FLAG_OWN_CAR', 'FLAG_OWN_REALTY', 'NAME_TYPE_SUITE', 'NAME_INCOME_TYPE', 'NAME_EDUCATION_TYPE', 'NAME_FAMILY_STATUS', 'NAME_HOUSING_TYPE', 'OCCUPATION_TYPE', 'WEEKDAY_APPR_PROCESS_START', 'ORGANIZATION_TYPE', 'FONDKAPREMONT_MODE', 'HOUSETYPE_MODE', 'WALLSMATERIAL_MODE', 'EMERGENCYSTATE_MODE']\n"
     ]
    }
   ],
   "source": [
    "# Identify numerical and categorical features\n",
    "numerical_features = train_features.select_dtypes(include=['int64', 'float64']).columns.tolist()\n",
    "categorical_features = train_features.select_dtypes(include=['object', 'category']).columns.tolist()\n",
    "\n",
    "print(\"Numerical Features:\", numerical_features)\n",
    "print(\"Categorical Features:\", categorical_features)\n",
    "\n",
    "# Impute numerical features with median\n",
    "num_imputer = SimpleImputer(strategy='median')\n",
    "train_features[numerical_features] = num_imputer.fit_transform(train_features[numerical_features])\n",
    "test_features[numerical_features] = num_imputer.transform(test_features[numerical_features])\n",
    "\n",
    "# Impute categorical features with mode\n",
    "cat_imputer = SimpleImputer(strategy='most_frequent')\n",
    "train_features[categorical_features] = cat_imputer.fit_transform(train_features[categorical_features])\n",
    "test_features[categorical_features] = cat_imputer.transform(test_features[categorical_features])"
   ]
  },
  {
   "cell_type": "markdown",
   "id": "180b0463-2091-4541-a1ba-c4cbd1c2c508",
   "metadata": {},
   "source": [
    "# Feature encoding"
   ]
  },
  {
   "cell_type": "code",
   "execution_count": 8,
   "id": "3d096657-845b-453c-b13e-f935c1750255",
   "metadata": {},
   "outputs": [
    {
     "name": "stdout",
     "output_type": "stream",
     "text": [
      "After encoding, Training data shape: (215258, 226)\n",
      "After encoding, Test data shape: (92253, 226)\n"
     ]
    }
   ],
   "source": [
    "# One-Hot Encoding for categorical variables\n",
    "train_encoded = pd.get_dummies(train_features, columns=categorical_features, drop_first=True)\n",
    "test_encoded = pd.get_dummies(test_features, columns=categorical_features, drop_first=True)\n",
    "\n",
    "# Align train and test data by columns\n",
    "train_encoded, test_encoded = train_encoded.align(test_encoded, join='inner', axis=1)\n",
    "\n",
    "print(\"After encoding, Training data shape:\", train_encoded.shape)\n",
    "print(\"After encoding, Test data shape:\", test_encoded.shape)"
   ]
  },
  {
   "cell_type": "markdown",
   "id": "96b57121-965d-44ba-8bca-31d0bad3757f",
   "metadata": {},
   "source": [
    "# Feature Scaling"
   ]
  },
  {
   "cell_type": "code",
   "execution_count": 9,
   "id": "d6bbbfaf-fb98-4880-8ded-e25db3d50c77",
   "metadata": {},
   "outputs": [],
   "source": [
    "# Initialize StandardScaler\n",
    "scaler = StandardScaler()\n",
    "\n",
    "# Fit and transform the training data\n",
    "train_encoded[numerical_features] = scaler.fit_transform(train_encoded[numerical_features])\n",
    "\n",
    "# Transform the test data\n",
    "test_encoded[numerical_features] = scaler.transform(test_encoded[numerical_features])"
   ]
  },
  {
   "cell_type": "markdown",
   "id": "4b63f2d0-7b62-41ba-b1f9-f90df9498344",
   "metadata": {},
   "source": [
    "# Handling outliers"
   ]
  },
  {
   "cell_type": "code",
   "execution_count": 10,
   "id": "b85d8403-fe33-4589-bae0-1d13994a400b",
   "metadata": {},
   "outputs": [],
   "source": [
    "for col in numerical_features:\n",
    "    lower = train_encoded[col].quantile(0.05)\n",
    "    upper = train_encoded[col].quantile(0.95)\n",
    "    train_encoded[col] = train_encoded[col].clip(lower, upper)\n",
    "    test_encoded[col] = test_encoded[col].clip(lower, upper)"
   ]
  },
  {
   "cell_type": "markdown",
   "id": "afe51709-81da-4be2-8b4e-90957f8dd78b",
   "metadata": {},
   "source": [
    "# Feature Engineering"
   ]
  },
  {
   "cell_type": "code",
   "execution_count": 11,
   "id": "b10792b1-928f-45d2-bcee-0397b312a8ab",
   "metadata": {},
   "outputs": [],
   "source": [
    "# Example: Income to Loan Amount Ratio\n",
    "# Replace 'Income' and 'LoanAmount' with actual column names if they exist\n",
    "if 'Income' in train_encoded.columns and 'LoanAmount' in train_encoded.columns:\n",
    "    train_encoded['Income_Loan_Ratio'] = train_encoded['Income'] / (train_encoded['LoanAmount'] + 1)\n",
    "    test_encoded['Income_Loan_Ratio'] = test_encoded['Income'] / (test_encoded['LoanAmount'] + 1)\n",
    "\n",
    "# Example: Debt to Income Ratio\n",
    "if 'Debt' in train_encoded.columns and 'Income' in train_encoded.columns:\n",
    "    train_encoded['Debt_Income_Ratio'] = train_encoded['Debt'] / (train_encoded['Income'] + 1)\n",
    "    test_encoded['Debt_Income_Ratio'] = test_encoded['Debt'] / (test_encoded['Income'] + 1)"
   ]
  },
  {
   "cell_type": "markdown",
   "id": "bdd7e1ac-62f7-463f-a710-3de8b94911fe",
   "metadata": {},
   "source": [
    "# Feature Selection"
   ]
  },
  {
   "cell_type": "code",
   "execution_count": 12,
   "id": "ee8b0862-334e-4ea5-937e-b413324349ef",
   "metadata": {},
   "outputs": [
    {
     "name": "stdout",
     "output_type": "stream",
     "text": [
      "Highly correlated features to drop: ['AMT_GOODS_PRICE', 'FLAG_EMP_PHONE', 'REGION_RATING_CLIENT_W_CITY', 'APARTMENTS_MODE', 'BASEMENTAREA_MODE', 'YEARS_BEGINEXPLUATATION_MODE', 'YEARS_BUILD_MODE', 'COMMONAREA_MODE', 'ELEVATORS_MODE', 'ENTRANCES_MODE', 'FLOORSMAX_MODE', 'FLOORSMIN_MODE', 'LANDAREA_MODE', 'LIVINGAPARTMENTS_MODE', 'LIVINGAREA_MODE', 'APARTMENTS_MEDI', 'BASEMENTAREA_MEDI', 'YEARS_BEGINEXPLUATATION_MEDI', 'YEARS_BUILD_MEDI', 'COMMONAREA_MEDI', 'ELEVATORS_MEDI', 'ENTRANCES_MEDI', 'FLOORSMAX_MEDI', 'FLOORSMIN_MEDI', 'LANDAREA_MEDI', 'LIVINGAPARTMENTS_MEDI', 'LIVINGAREA_MEDI', 'NONLIVINGAPARTMENTS_MEDI', 'NONLIVINGAREA_MEDI', 'OBS_60_CNT_SOCIAL_CIRCLE', 'NAME_INCOME_TYPE_Pensioner', 'ORGANIZATION_TYPE_XNA']\n"
     ]
    }
   ],
   "source": [
    "# Correlation matrix\n",
    "corr_matrix = train_encoded.corr().abs()\n",
    "\n",
    "# Select upper triangle of correlation matrix\n",
    "upper = corr_matrix.where(np.triu(np.ones(corr_matrix.shape), k=1).astype(bool))\n",
    "\n",
    "# Find features with correlation greater than 0.95\n",
    "to_drop = [column for column in upper.columns if any(upper[column] > 0.95)]\n",
    "\n",
    "print(\"Highly correlated features to drop:\", to_drop)\n",
    "\n",
    "# Drop the features\n",
    "train_encoded.drop(columns=to_drop, inplace=True)\n",
    "test_encoded.drop(columns=to_drop, inplace=True)"
   ]
  },
  {
   "cell_type": "markdown",
   "id": "63fa9fa2-d3a3-4c34-baa2-5a345c533b62",
   "metadata": {},
   "source": [
    "# Adressing class imbalance"
   ]
  },
  {
   "cell_type": "code",
   "execution_count": 13,
   "id": "85b74bf0-7df5-473e-9142-9464469e300a",
   "metadata": {},
   "outputs": [
    {
     "name": "stdout",
     "output_type": "stream",
     "text": [
      "Before SMOTE: TARGET\n",
      "0    197880\n",
      "1     17378\n",
      "Name: count, dtype: int64\n",
      "After SMOTE: TARGET\n",
      "0    197880\n",
      "1    197880\n",
      "Name: count, dtype: int64\n"
     ]
    }
   ],
   "source": [
    "# Check target distribution before SMOTE\n",
    "print(\"Before SMOTE:\", y.value_counts())\n",
    "\n",
    "# Initialize SMOTE\n",
    "smote = SMOTE(random_state=42)\n",
    "\n",
    "# Apply SMOTE to training data\n",
    "X_res, y_res = smote.fit_resample(train_encoded, y)\n",
    "\n",
    "print(\"After SMOTE:\", pd.Series(y_res).value_counts())"
   ]
  },
  {
   "cell_type": "markdown",
   "id": "27d2d816-fc2a-4522-9aaf-44d02c3eb6b2",
   "metadata": {},
   "source": [
    "# Model building and evaluation"
   ]
  },
  {
   "cell_type": "markdown",
   "id": "56e7721a-25d5-4f59-b4b2-60ffaabe3bd9",
   "metadata": {},
   "source": [
    "## Train test split"
   ]
  },
  {
   "cell_type": "code",
   "execution_count": 14,
   "id": "e1a1c2cd-8e49-4171-b8d2-844b0bdf22d4",
   "metadata": {},
   "outputs": [
    {
     "name": "stdout",
     "output_type": "stream",
     "text": [
      "Training set shape: (316608, 194)\n",
      "Validation set shape: (79152, 194)\n"
     ]
    }
   ],
   "source": [
    "# Split the resampled data into training and validation sets\n",
    "X_train, X_val, y_train, y_val = train_test_split(\n",
    "    X_res, y_res, test_size=0.2, random_state=42, stratify=y_res\n",
    ")\n",
    "\n",
    "print(\"Training set shape:\", X_train.shape)\n",
    "print(\"Validation set shape:\", X_val.shape)"
   ]
  },
  {
   "cell_type": "markdown",
   "id": "1c7cf309-3292-45da-ab10-54980f458c6b",
   "metadata": {},
   "source": [
    "## Training a baseline model"
   ]
  },
  {
   "cell_type": "code",
   "execution_count": 15,
   "id": "894a6a1e-b627-419f-8388-8a743144f8eb",
   "metadata": {},
   "outputs": [
    {
     "name": "stdout",
     "output_type": "stream",
     "text": [
      "Random Forest F1 Score: 0.9547\n",
      "\n",
      "Classification Report:\n",
      "              precision    recall  f1-score   support\n",
      "\n",
      "           0       0.93      0.99      0.96     39576\n",
      "           1       0.99      0.93      0.95     39576\n",
      "\n",
      "    accuracy                           0.96     79152\n",
      "   macro avg       0.96      0.96      0.96     79152\n",
      "weighted avg       0.96      0.96      0.96     79152\n",
      "\n"
     ]
    },
    {
     "data": {
      "image/png": "[encoded data removed]",
      "text/plain": [
       "<Figure size 600x400 with 2 Axes>"
      ]
     },
     "metadata": {},
     "output_type": "display_data"
    }
   ],
   "source": [
    "# Initialize the Random Forest classifier\n",
    "rf_classifier = RandomForestClassifier(random_state=42, n_jobs=-1)\n",
    "\n",
    "# Train the model\n",
    "rf_classifier.fit(X_train, y_train)\n",
    "\n",
    "# Predict on the validation set\n",
    "y_pred = rf_classifier.predict(X_val)\n",
    "\n",
    "# Calculate F1 Score\n",
    "f1 = f1_score(y_val, y_pred)\n",
    "print(f'Random Forest F1 Score: {f1:.4f}')\n",
    "\n",
    "# Classification Report\n",
    "print(\"\\nClassification Report:\")\n",
    "print(classification_report(y_val, y_pred))\n",
    "\n",
    "# Confusion Matrix\n",
    "plt.figure(figsize=(6,4))\n",
    "sns.heatmap(confusion_matrix(y_val, y_pred), annot=True, fmt='d', cmap='Blues')\n",
    "plt.xlabel('Predicted')\n",
    "plt.ylabel('Actual')\n",
    "plt.title('Confusion Matrix')\n",
    "plt.show()"
   ]
  },
  {
   "cell_type": "markdown",
   "id": "9344bc74-c64f-48bf-bac8-a30040b6dab0",
   "metadata": {},
   "source": [
    "## Hyperparameter tuning"
   ]
  },
  {
   "cell_type": "code",
   "execution_count": 16,
   "id": "0c62a447-1c52-405b-93ca-56687752a79d",
   "metadata": {},
   "outputs": [
    {
     "name": "stdout",
     "output_type": "stream",
     "text": [
      "Fitting 3 folds for each of 12 candidates, totalling 36 fits\n",
      "[CV] END class_weight=balanced, max_depth=None, min_samples_split=5, n_estimators=100; total time= 1.4min\n",
      "[CV] END class_weight=balanced, max_depth=None, min_samples_split=5, n_estimators=200; total time= 3.3min\n",
      "[CV] END class_weight=balanced, max_depth=None, min_samples_split=2, n_estimators=100; total time= 1.4min\n",
      "[CV] END class_weight=balanced, max_depth=None, min_samples_split=5, n_estimators=100; total time= 1.7min\n",
      "[CV] END class_weight=balanced, max_depth=10, min_samples_split=5, n_estimators=100; total time=  49.3s\n",
      "[CV] END class_weight=balanced, max_depth=10, min_samples_split=5, n_estimators=100; total time=  43.3s\n",
      "[CV] END class_weight=balanced, max_depth=20, min_samples_split=2, n_estimators=200; total time= 2.6min\n",
      "[CV] END class_weight=balanced, max_depth=20, min_samples_split=5, n_estimators=200; total time=  55.9s\n",
      "Best parameters for Random Forest: {'class_weight': 'balanced', 'max_depth': None, 'min_samples_split': 2, 'n_estimators': 200}\n",
      "Best F1 Score from GridSearchCV: 0.9491\n"
     ]
    }
   ],
   "source": [
    "# Define parameter grid for Random Forest\n",
    "param_grid_rf = {\n",
    "    'n_estimators': [100, 200],\n",
    "    'max_depth': [None, 10, 20],\n",
    "    'min_samples_split': [2, 5],\n",
    "    'class_weight': ['balanced']\n",
    "}\n",
    "\n",
    "# Initialize GridSearchCV\n",
    "grid_rf = GridSearchCV(\n",
    "    estimator=rf_classifier,\n",
    "    param_grid=param_grid_rf,\n",
    "    scoring='f1',\n",
    "    cv=StratifiedKFold(n_splits=3, shuffle=True, random_state=42),\n",
    "    n_jobs=-1,\n",
    "    verbose=2\n",
    ")\n",
    "\n",
    "# Fit GridSearchCV\n",
    "grid_rf.fit(X_train, y_train)\n",
    "\n",
    "# Best parameters and score\n",
    "print(\"Best parameters for Random Forest:\", grid_rf.best_params_)\n",
    "print(f'Best F1 Score from GridSearchCV: {grid_rf.best_score_:.4f}')\n",
    "\n",
    "# Best estimator\n",
    "best_rf = grid_rf.best_estimator_"
   ]
  },
  {
   "cell_type": "markdown",
   "id": "a7402688-36a3-48e1-ae05-2cc06051fec1",
   "metadata": {},
   "source": [
    "## model evaluation"
   ]
  },
  {
   "cell_type": "code",
   "execution_count": 17,
   "id": "319e5be0-7f07-4e49-9d8d-1e4bf0ca663f",
   "metadata": {},
   "outputs": [
    {
     "name": "stdout",
     "output_type": "stream",
     "text": [
      "Optimized Random Forest F1 Score: 0.9550\n",
      "\n",
      "Optimized Classification Report:\n",
      "              precision    recall  f1-score   support\n",
      "\n",
      "           0       0.93      0.99      0.96     39576\n",
      "           1       0.99      0.93      0.96     39576\n",
      "\n",
      "    accuracy                           0.96     79152\n",
      "   macro avg       0.96      0.96      0.96     79152\n",
      "weighted avg       0.96      0.96      0.96     79152\n",
      "\n"
     ]
    },
    {
     "data": {
      "image/png": "[encoded data removed]",
      "text/plain": [
       "<Figure size 600x400 with 2 Axes>"
      ]
     },
     "metadata": {},
     "output_type": "display_data"
    }
   ],
   "source": [
    "# Predict with the best estimator\n",
    "y_pred_best = best_rf.predict(X_val)\n",
    "\n",
    "# Calculate F1 Score\n",
    "f1_best = f1_score(y_val, y_pred_best)\n",
    "print(f'Optimized Random Forest F1 Score: {f1_best:.4f}')\n",
    "\n",
    "# Classification Report\n",
    "print(\"\\nOptimized Classification Report:\")\n",
    "print(classification_report(y_val, y_pred_best))\n",
    "\n",
    "# Confusion Matrix\n",
    "plt.figure(figsize=(6,4))\n",
    "sns.heatmap(confusion_matrix(y_val, y_pred_best), annot=True, fmt='d', cmap='Greens')\n",
    "plt.xlabel('Predicted')\n",
    "plt.ylabel('Actual')\n",
    "plt.title('Optimized Confusion Matrix')\n",
    "plt.show()"
   ]
  },
  {
   "cell_type": "markdown",
   "id": "822d2dd4-640d-4f73-ae5c-2d710697b812",
   "metadata": {},
   "source": [
    "# Final model training and prediction"
   ]
  },
  {
   "cell_type": "code",
   "execution_count": 18,
   "id": "631d1733-db4b-4930-8d0e-0c23bd259a0a",
   "metadata": {},
   "outputs": [
    {
     "name": "stdout",
     "output_type": "stream",
     "text": [
      "[CV] END class_weight=balanced, max_depth=None, min_samples_split=2, n_estimators=100; total time= 1.4min\n",
      "[CV] END class_weight=balanced, max_depth=None, min_samples_split=5, n_estimators=200; total time= 3.2min\n",
      "[CV] END class_weight=balanced, max_depth=20, min_samples_split=2, n_estimators=100; total time= 1.4min\n",
      "[CV] END class_weight=balanced, max_depth=20, min_samples_split=5, n_estimators=100; total time= 1.4min\n",
      "[CV] END class_weight=balanced, max_depth=20, min_samples_split=2, n_estimators=200; total time= 2.7min\n",
      "[CV] END class_weight=balanced, max_depth=None, min_samples_split=2, n_estimators=200; total time= 3.1min\n",
      "[CV] END class_weight=balanced, max_depth=10, min_samples_split=2, n_estimators=200; total time= 1.5min\n",
      "[CV] END class_weight=balanced, max_depth=10, min_samples_split=5, n_estimators=200; total time= 1.5min\n",
      "[CV] END class_weight=balanced, max_depth=20, min_samples_split=5, n_estimators=100; total time= 1.4min\n",
      "[CV] END class_weight=balanced, max_depth=None, min_samples_split=5, n_estimators=100; total time= 1.4min\n",
      "[CV] END class_weight=balanced, max_depth=None, min_samples_split=5, n_estimators=200; total time= 3.3min\n",
      "[CV] END class_weight=balanced, max_depth=20, min_samples_split=2, n_estimators=100; total time= 1.4min\n",
      "[CV] END class_weight=balanced, max_depth=20, min_samples_split=5, n_estimators=100; total time= 1.4min\n",
      "Test Predictions: [0 1 0 0 0]\n",
      "[CV] END class_weight=balanced, max_depth=None, min_samples_split=2, n_estimators=200; total time= 3.1min\n",
      "[CV] END class_weight=balanced, max_depth=10, min_samples_split=2, n_estimators=100; total time=  48.2s\n",
      "[CV] END class_weight=balanced, max_depth=10, min_samples_split=5, n_estimators=100; total time=  43.6s\n",
      "[CV] END class_weight=balanced, max_depth=20, min_samples_split=2, n_estimators=100; total time= 1.4min\n",
      "[CV] END class_weight=balanced, max_depth=20, min_samples_split=2, n_estimators=200; total time= 2.1min\n",
      "[CV] END class_weight=balanced, max_depth=None, min_samples_split=2, n_estimators=200; total time= 3.1min\n",
      "[CV] END class_weight=balanced, max_depth=10, min_samples_split=2, n_estimators=200; total time= 1.5min\n",
      "[CV] END class_weight=balanced, max_depth=10, min_samples_split=5, n_estimators=200; total time= 1.5min\n",
      "[CV] END class_weight=balanced, max_depth=20, min_samples_split=5, n_estimators=200; total time= 2.0min\n",
      "[CV] END class_weight=balanced, max_depth=None, min_samples_split=2, n_estimators=100; total time= 1.4min\n",
      "[CV] END class_weight=balanced, max_depth=10, min_samples_split=2, n_estimators=100; total time=  46.5s\n",
      "[CV] END class_weight=balanced, max_depth=10, min_samples_split=2, n_estimators=100; total time=  52.6s\n",
      "[CV] END class_weight=balanced, max_depth=10, min_samples_split=2, n_estimators=200; total time= 1.5min\n",
      "[CV] END class_weight=balanced, max_depth=10, min_samples_split=5, n_estimators=200; total time= 1.5min\n",
      "[CV] END class_weight=balanced, max_depth=20, min_samples_split=5, n_estimators=200; total time= 2.0min\n"
     ]
    }
   ],
   "source": [
    "# Retrain the best model on the entire resampled dataset\n",
    "best_rf.fit(X_res, y_res)\n",
    "\n",
    "# Make predictions on the test set\n",
    "test_predictions = best_rf.predict(test_encoded)\n",
    "\n",
    "print(\"Test Predictions:\", test_predictions[:5])"
   ]
  },
  {
   "cell_type": "markdown",
   "id": "3e274539-5437-4aca-a829-e352e8507b09",
   "metadata": {},
   "source": [
    "# Preparing submission file"
   ]
  },
  {
   "cell_type": "code",
   "execution_count": 19,
   "id": "fb676206-9f4f-4adb-8bdd-7d73c39b31b7",
   "metadata": {},
   "outputs": [
    {
     "name": "stdout",
     "output_type": "stream",
     "text": [
      "      ID  TARGET\n",
      "0  37408       0\n",
      "1  75132       1\n",
      "2  21513       0\n",
      "3  58291       0\n",
      "4  39033       0\n",
      "Submission file 'YOURTEAMNAME.csv' created successfully.\n"
     ]
    }
   ],
   "source": [
    "# Prepare the submission DataFrame\n",
    "submission = pd.DataFrame({\n",
    "    'ID': test['ID'],\n",
    "    'TARGET': test_predictions.astype(int)  # Ensure integer type\n",
    "})\n",
    "\n",
    "# Display first few rows of submission\n",
    "print(submission.head())\n",
    "\n",
    "# Save to CSV\n",
    "submission.to_csv('YOURTEAMNAME.csv', index=False)\n",
    "print(\"Submission file 'YOURTEAMNAME.csv' created successfully.\")"
   ]
  },
  {
   "cell_type": "code",
   "execution_count": null,
   "id": "d654ac20-bce4-4bc5-afe2-dad3709d02e3",
   "metadata": {},
   "outputs": [],
   "source": []
  }
 ],
 "metadata": {
  "kernelspec": {
   "display_name": "Python 3 (ipykernel)",
   "language": "python",
   "name": "python3"
  },
  "language_info": {
   "codemirror_mode": {
    "name": "ipython",
    "version": 3
   },
   "file_extension": ".py",
   "mimetype": "text/x-python",
   "name": "python",
   "nbconvert_exporter": "python",
   "pygments_lexer": "ipython3",
   "version": "3.13.1"
  }
 },
 "nbformat": 4,
 "nbformat_minor": 5
}
